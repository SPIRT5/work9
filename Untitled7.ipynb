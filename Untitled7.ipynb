{
  "nbformat": 4,
  "nbformat_minor": 0,
  "metadata": {
    "colab": {
      "provenance": [],
      "authorship_tag": "ABX9TyN7oaoC0rsfSwXogdndge2W",
      "include_colab_link": true
    },
    "kernelspec": {
      "name": "python3",
      "display_name": "Python 3"
    },
    "language_info": {
      "name": "python"
    }
  },
  "cells": [
    {
      "cell_type": "markdown",
      "metadata": {
        "id": "view-in-github",
        "colab_type": "text"
      },
      "source": [
        "<a href=\"https://colab.research.google.com/github/SPIRT5/work9/blob/main/Untitled7.ipynb\" target=\"_parent\"><img src=\"https://colab.research.google.com/assets/colab-badge.svg\" alt=\"Open In Colab\"/></a>"
      ]
    },
    {
      "cell_type": "markdown",
      "source": [
        "Даны значения величины заработной платы заемщиков банка (zp) и значения их поведенческого кредитного скоринга (ks): zp = [35, 45, 190, 200, 40, 70, 54, 150, 120, 110], ks = [401, 574, 874, 919, 459, 739, 653, 902, 746, 832]. Используя математические операции, посчитать коэффициенты линейной регрессии, приняв за X заработную плату (то есть, zp - признак), а за y - значения скорингового балла (то есть, ks - целевая переменная). Произвести расчет как с использованием intercept, так и без.\n",
        "\n"
      ],
      "metadata": {
        "id": "TM__iOtjW1p4"
      }
    },
    {
      "cell_type": "code",
      "execution_count": 1,
      "metadata": {
        "colab": {
          "base_uri": "https://localhost:8080/"
        },
        "id": "IoYZov3sWdM0",
        "outputId": "5c6351a6-e205-4af9-8496-13cdd7bbb611"
      },
      "outputs": [
        {
          "output_type": "execute_result",
          "data": {
            "text/plain": [
              "(5.889820420132689, 444.17735732435955, 2.6205388824027653)"
            ]
          },
          "metadata": {},
          "execution_count": 1
        }
      ],
      "source": [
        "import numpy as np\n",
        "\n",
        "# Данные\n",
        "zp = np.array([35, 45, 190, 200, 40, 70, 54, 150, 120, 110])\n",
        "ks = np.array([401, 574, 874, 919, 459, 739, 653, 902, 746, 832])\n",
        "\n",
        "# 1.1 Линейная регрессия без intercept\n",
        "beta1_no_intercept = np.sum(zp * ks) / np.sum(zp**2)\n",
        "\n",
        "# 1.2 Линейная регрессия с intercept\n",
        "n = len(zp)\n",
        "sum_x = np.sum(zp)\n",
        "sum_y = np.sum(ks)\n",
        "sum_xx = np.sum(zp**2)\n",
        "sum_xy = np.sum(zp * ks)\n",
        "\n",
        "beta1_with_intercept = (n * sum_xy - sum_x * sum_y) / (n * sum_xx - sum_x**2)\n",
        "beta0_with_intercept = np.mean(ks) - beta1_with_intercept * np.mean(zp)\n",
        "\n",
        "beta1_no_intercept, beta0_with_intercept, beta1_with_intercept\n"
      ]
    },
    {
      "cell_type": "markdown",
      "source": [
        "Посчитать коэффициент линейной регрессии при заработной плате (zp), используя градиентный спуск (без intercept)."
      ],
      "metadata": {
        "id": "CIkPgWSjW0Uf"
      }
    },
    {
      "cell_type": "code",
      "source": [
        "# Параметры\n",
        "alpha = 1e-6\n",
        "epsilon = 1e-6\n",
        "max_iterations = 100000\n",
        "\n",
        "# Инициализация\n",
        "beta1 = 0\n",
        "m = len(zp)\n",
        "\n",
        "for iteration in range(max_iterations):\n",
        "    gradient = np.sum(zp * (zp * beta1 - ks)) / m\n",
        "    new_beta1 = beta1 - alpha * gradient\n",
        "\n",
        "    if abs(new_beta1 - beta1) < epsilon:\n",
        "        break\n",
        "\n",
        "    beta1 = new_beta1\n",
        "\n",
        "beta1\n"
      ],
      "metadata": {
        "colab": {
          "base_uri": "https://localhost:8080/"
        },
        "id": "NRrJcSP3XzEe",
        "outputId": "a3d0ec1b-b6a8-45fc-ad15-ffc5d8180618"
      },
      "execution_count": 2,
      "outputs": [
        {
          "output_type": "execute_result",
          "data": {
            "text/plain": [
              "5.8897479809052795"
            ]
          },
          "metadata": {},
          "execution_count": 2
        }
      ]
    },
    {
      "cell_type": "markdown",
      "source": [
        "Произвести вычисления как в пункте 2, но с вычислением intercept. Учесть, что изменение коэффициентов должно производиться на каждом шаге одновременно (то есть изменение одного коэффициента не должно влиять на изменение другого во время одной итерации)."
      ],
      "metadata": {
        "id": "GyX5aj3mX6PZ"
      }
    },
    {
      "cell_type": "code",
      "source": [
        "# Инициализация\n",
        "beta0 = 0\n",
        "beta1 = 0\n",
        "\n",
        "for iteration in range(max_iterations):\n",
        "    predictions = beta0 + beta1 * zp\n",
        "    error = predictions - ks\n",
        "\n",
        "    gradient_beta0 = np.sum(error) / m\n",
        "    gradient_beta1 = np.sum(zp * error) / m\n",
        "\n",
        "    new_beta0 = beta0 - alpha * gradient_beta0\n",
        "    new_beta1 = beta1 - alpha * gradient_beta1\n",
        "\n",
        "    if abs(new_beta0 - beta0) < epsilon and abs(new_beta1 - beta1) < epsilon:\n",
        "        break\n",
        "\n",
        "    beta0 = new_beta0\n",
        "    beta1 = new_beta1\n",
        "\n",
        "beta0, beta1\n"
      ],
      "metadata": {
        "colab": {
          "base_uri": "https://localhost:8080/"
        },
        "id": "YgMdwCYuX7U5",
        "outputId": "60884e19-8f55-4d5a-a512-9abd6db4ab5d"
      },
      "execution_count": 3,
      "outputs": [
        {
          "output_type": "execute_result",
          "data": {
            "text/plain": [
              "(11.167187062498124, 5.807685180323539)"
            ]
          },
          "metadata": {},
          "execution_count": 3
        }
      ]
    },
    {
      "cell_type": "markdown",
      "source": [
        "Результаты метода математических операций и градиентного спуска для линейной регрессии без intercept практически совпадают, что говорит о корректности расчетов. Для линейной регрессии с intercept результаты значительно различаются, что может быть связано с выбором параметров для градиентного спуска (скорость обучения α и количество итераций). ​"
      ],
      "metadata": {
        "id": "yrrIpdu0ZJcs"
      }
    }
  ]
}